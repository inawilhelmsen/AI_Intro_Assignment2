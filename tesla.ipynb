{
 "cells": [
  {
   "cell_type": "markdown",
   "metadata": {},
   "source": [
    "### Introduction to AI\n",
    "## Assignment 2\n",
    "\n",
    "\n",
    "### Imports"
   ]
  },
  {
   "cell_type": "code",
   "execution_count": 1,
   "metadata": {},
   "outputs": [
    {
     "data": {
      "text/html": [
       "<div>\n",
       "<style scoped>\n",
       "    .dataframe tbody tr th:only-of-type {\n",
       "        vertical-align: middle;\n",
       "    }\n",
       "\n",
       "    .dataframe tbody tr th {\n",
       "        vertical-align: top;\n",
       "    }\n",
       "\n",
       "    .dataframe thead th {\n",
       "        text-align: right;\n",
       "    }\n",
       "</style>\n",
       "<table border=\"1\" class=\"dataframe\">\n",
       "  <thead>\n",
       "    <tr style=\"text-align: right;\">\n",
       "      <th></th>\n",
       "      <th>Date</th>\n",
       "      <th>Open</th>\n",
       "      <th>High</th>\n",
       "      <th>Low</th>\n",
       "      <th>Close</th>\n",
       "      <th>Adj Close</th>\n",
       "      <th>Volume</th>\n",
       "    </tr>\n",
       "  </thead>\n",
       "  <tbody>\n",
       "    <tr>\n",
       "      <th>0</th>\n",
       "      <td>2022-10-31</td>\n",
       "      <td>226.190002</td>\n",
       "      <td>229.850006</td>\n",
       "      <td>221.940002</td>\n",
       "      <td>227.539993</td>\n",
       "      <td>227.539993</td>\n",
       "      <td>61554300</td>\n",
       "    </tr>\n",
       "    <tr>\n",
       "      <th>1</th>\n",
       "      <td>2022-11-01</td>\n",
       "      <td>234.050003</td>\n",
       "      <td>237.399994</td>\n",
       "      <td>227.279999</td>\n",
       "      <td>227.820007</td>\n",
       "      <td>227.820007</td>\n",
       "      <td>62688800</td>\n",
       "    </tr>\n",
       "    <tr>\n",
       "      <th>2</th>\n",
       "      <td>2022-11-02</td>\n",
       "      <td>226.039993</td>\n",
       "      <td>227.869995</td>\n",
       "      <td>214.820007</td>\n",
       "      <td>214.979996</td>\n",
       "      <td>214.979996</td>\n",
       "      <td>63070300</td>\n",
       "    </tr>\n",
       "    <tr>\n",
       "      <th>3</th>\n",
       "      <td>2022-11-03</td>\n",
       "      <td>211.360001</td>\n",
       "      <td>221.199997</td>\n",
       "      <td>210.139999</td>\n",
       "      <td>215.309998</td>\n",
       "      <td>215.309998</td>\n",
       "      <td>56538800</td>\n",
       "    </tr>\n",
       "    <tr>\n",
       "      <th>4</th>\n",
       "      <td>2022-11-04</td>\n",
       "      <td>222.600006</td>\n",
       "      <td>223.800003</td>\n",
       "      <td>203.080002</td>\n",
       "      <td>207.470001</td>\n",
       "      <td>207.470001</td>\n",
       "      <td>98622200</td>\n",
       "    </tr>\n",
       "  </tbody>\n",
       "</table>\n",
       "</div>"
      ],
      "text/plain": [
       "         Date        Open        High         Low       Close   Adj Close  \\\n",
       "0  2022-10-31  226.190002  229.850006  221.940002  227.539993  227.539993   \n",
       "1  2022-11-01  234.050003  237.399994  227.279999  227.820007  227.820007   \n",
       "2  2022-11-02  226.039993  227.869995  214.820007  214.979996  214.979996   \n",
       "3  2022-11-03  211.360001  221.199997  210.139999  215.309998  215.309998   \n",
       "4  2022-11-04  222.600006  223.800003  203.080002  207.470001  207.470001   \n",
       "\n",
       "     Volume  \n",
       "0  61554300  \n",
       "1  62688800  \n",
       "2  63070300  \n",
       "3  56538800  \n",
       "4  98622200  "
      ]
     },
     "execution_count": 1,
     "metadata": {},
     "output_type": "execute_result"
    }
   ],
   "source": [
    "import pandas as pd\n",
    "import numpy as np\n",
    "import matplotlib.pyplot as plt\n",
    "import datetime\n",
    "from datetime import datetime\n",
    "\n",
    "from sklearn import metrics\n",
    "from sklearn import preprocessing\n",
    "from sklearn.linear_model import LinearRegression\n",
    "from sklearn.model_selection import train_test_split\n",
    "\n",
    "path = \"C:\\\\Users\\\\inawi\\\\Downloads\\\\TSLA.csv\"\n",
    "\n",
    "df = pd.read_csv(path, delimiter =',')\n",
    "df.head()\n"
   ]
  },
  {
   "cell_type": "code",
   "execution_count": 2,
   "metadata": {},
   "outputs": [
    {
     "data": {
      "text/html": [
       "<div>\n",
       "<style scoped>\n",
       "    .dataframe tbody tr th:only-of-type {\n",
       "        vertical-align: middle;\n",
       "    }\n",
       "\n",
       "    .dataframe tbody tr th {\n",
       "        vertical-align: top;\n",
       "    }\n",
       "\n",
       "    .dataframe thead th {\n",
       "        text-align: right;\n",
       "    }\n",
       "</style>\n",
       "<table border=\"1\" class=\"dataframe\">\n",
       "  <thead>\n",
       "    <tr style=\"text-align: right;\">\n",
       "      <th></th>\n",
       "      <th>Date</th>\n",
       "      <th>Open</th>\n",
       "      <th>High</th>\n",
       "      <th>Low</th>\n",
       "      <th>Close</th>\n",
       "      <th>Adj Close</th>\n",
       "      <th>Volume</th>\n",
       "    </tr>\n",
       "  </thead>\n",
       "  <tbody>\n",
       "    <tr>\n",
       "      <th>0</th>\n",
       "      <td>2022-10-31</td>\n",
       "      <td>226.190002</td>\n",
       "      <td>229.850006</td>\n",
       "      <td>221.940002</td>\n",
       "      <td>227.539993</td>\n",
       "      <td>227.539993</td>\n",
       "      <td>61554300</td>\n",
       "    </tr>\n",
       "    <tr>\n",
       "      <th>1</th>\n",
       "      <td>2022-11-01</td>\n",
       "      <td>234.050003</td>\n",
       "      <td>237.399994</td>\n",
       "      <td>227.279999</td>\n",
       "      <td>227.820007</td>\n",
       "      <td>227.820007</td>\n",
       "      <td>62688800</td>\n",
       "    </tr>\n",
       "    <tr>\n",
       "      <th>2</th>\n",
       "      <td>2022-11-02</td>\n",
       "      <td>226.039993</td>\n",
       "      <td>227.869995</td>\n",
       "      <td>214.820007</td>\n",
       "      <td>214.979996</td>\n",
       "      <td>214.979996</td>\n",
       "      <td>63070300</td>\n",
       "    </tr>\n",
       "    <tr>\n",
       "      <th>3</th>\n",
       "      <td>2022-11-03</td>\n",
       "      <td>211.360001</td>\n",
       "      <td>221.199997</td>\n",
       "      <td>210.139999</td>\n",
       "      <td>215.309998</td>\n",
       "      <td>215.309998</td>\n",
       "      <td>56538800</td>\n",
       "    </tr>\n",
       "    <tr>\n",
       "      <th>4</th>\n",
       "      <td>2022-11-04</td>\n",
       "      <td>222.600006</td>\n",
       "      <td>223.800003</td>\n",
       "      <td>203.080002</td>\n",
       "      <td>207.470001</td>\n",
       "      <td>207.470001</td>\n",
       "      <td>98622200</td>\n",
       "    </tr>\n",
       "  </tbody>\n",
       "</table>\n",
       "</div>"
      ],
      "text/plain": [
       "        Date        Open        High         Low       Close   Adj Close  \\\n",
       "0 2022-10-31  226.190002  229.850006  221.940002  227.539993  227.539993   \n",
       "1 2022-11-01  234.050003  237.399994  227.279999  227.820007  227.820007   \n",
       "2 2022-11-02  226.039993  227.869995  214.820007  214.979996  214.979996   \n",
       "3 2022-11-03  211.360001  221.199997  210.139999  215.309998  215.309998   \n",
       "4 2022-11-04  222.600006  223.800003  203.080002  207.470001  207.470001   \n",
       "\n",
       "     Volume  \n",
       "0  61554300  \n",
       "1  62688800  \n",
       "2  63070300  \n",
       "3  56538800  \n",
       "4  98622200  "
      ]
     },
     "execution_count": 2,
     "metadata": {},
     "output_type": "execute_result"
    }
   ],
   "source": [
    "df['Date'] = pd.to_datetime(df['Date'])\n",
    "df.head()"
   ]
  },
  {
   "cell_type": "code",
   "execution_count": 3,
   "metadata": {},
   "outputs": [],
   "source": [
    "date = pd.DataFrame(df['Date']).values.astype(\"float64\")\n",
    "close = pd.DataFrame(df['Close'])\n",
    "\n",
    "dateTrain, dateTest, closeTrain, closeTest = train_test_split(date, close, test_size=0.33, random_state=19)\n",
    "\n",
    "linearRegressor = LinearRegression()\n",
    "linearRegressor.fit(dateTrain, closeTrain)\n",
    "closePred = linearRegressor.predict(dateTrain)\n"
   ]
  },
  {
   "cell_type": "code",
   "execution_count": 4,
   "metadata": {},
   "outputs": [
    {
     "data": {
      "image/png": "[encoded data removed]",
      "text/plain": [
       "<Figure size 640x480 with 1 Axes>"
      ]
     },
     "metadata": {},
     "output_type": "display_data"
    }
   ],
   "source": [
    "plt.scatter(dateTrain, closeTrain)\n",
    "plt.plot(dateTrain, closePred, color = 'red')\n",
    "plt.show()"
   ]
  },
  {
   "cell_type": "code",
   "execution_count": 5,
   "metadata": {},
   "outputs": [
    {
     "data": {
      "text/html": [
       "<div>\n",
       "<style scoped>\n",
       "    .dataframe tbody tr th:only-of-type {\n",
       "        vertical-align: middle;\n",
       "    }\n",
       "\n",
       "    .dataframe tbody tr th {\n",
       "        vertical-align: top;\n",
       "    }\n",
       "\n",
       "    .dataframe thead th {\n",
       "        text-align: right;\n",
       "    }\n",
       "</style>\n",
       "<table border=\"1\" class=\"dataframe\">\n",
       "  <thead>\n",
       "    <tr style=\"text-align: right;\">\n",
       "      <th></th>\n",
       "      <th>Date</th>\n",
       "      <th>Open</th>\n",
       "      <th>High</th>\n",
       "      <th>Low</th>\n",
       "      <th>Close</th>\n",
       "      <th>Adj Close</th>\n",
       "      <th>Volume</th>\n",
       "      <th>index</th>\n",
       "    </tr>\n",
       "  </thead>\n",
       "  <tbody>\n",
       "    <tr>\n",
       "      <th>0</th>\n",
       "      <td>2022-10-31</td>\n",
       "      <td>226.190002</td>\n",
       "      <td>229.850006</td>\n",
       "      <td>221.940002</td>\n",
       "      <td>227.539993</td>\n",
       "      <td>227.539993</td>\n",
       "      <td>61554300</td>\n",
       "      <td>0.0</td>\n",
       "    </tr>\n",
       "    <tr>\n",
       "      <th>1</th>\n",
       "      <td>2022-11-01</td>\n",
       "      <td>234.050003</td>\n",
       "      <td>237.399994</td>\n",
       "      <td>227.279999</td>\n",
       "      <td>227.820007</td>\n",
       "      <td>227.820007</td>\n",
       "      <td>62688800</td>\n",
       "      <td>1.0</td>\n",
       "    </tr>\n",
       "    <tr>\n",
       "      <th>2</th>\n",
       "      <td>2022-11-02</td>\n",
       "      <td>226.039993</td>\n",
       "      <td>227.869995</td>\n",
       "      <td>214.820007</td>\n",
       "      <td>214.979996</td>\n",
       "      <td>214.979996</td>\n",
       "      <td>63070300</td>\n",
       "      <td>2.0</td>\n",
       "    </tr>\n",
       "    <tr>\n",
       "      <th>3</th>\n",
       "      <td>2022-11-03</td>\n",
       "      <td>211.360001</td>\n",
       "      <td>221.199997</td>\n",
       "      <td>210.139999</td>\n",
       "      <td>215.309998</td>\n",
       "      <td>215.309998</td>\n",
       "      <td>56538800</td>\n",
       "      <td>3.0</td>\n",
       "    </tr>\n",
       "    <tr>\n",
       "      <th>4</th>\n",
       "      <td>2022-11-04</td>\n",
       "      <td>222.600006</td>\n",
       "      <td>223.800003</td>\n",
       "      <td>203.080002</td>\n",
       "      <td>207.470001</td>\n",
       "      <td>207.470001</td>\n",
       "      <td>98622200</td>\n",
       "      <td>4.0</td>\n",
       "    </tr>\n",
       "  </tbody>\n",
       "</table>\n",
       "</div>"
      ],
      "text/plain": [
       "        Date        Open        High         Low       Close   Adj Close  \\\n",
       "0 2022-10-31  226.190002  229.850006  221.940002  227.539993  227.539993   \n",
       "1 2022-11-01  234.050003  237.399994  227.279999  227.820007  227.820007   \n",
       "2 2022-11-02  226.039993  227.869995  214.820007  214.979996  214.979996   \n",
       "3 2022-11-03  211.360001  221.199997  210.139999  215.309998  215.309998   \n",
       "4 2022-11-04  222.600006  223.800003  203.080002  207.470001  207.470001   \n",
       "\n",
       "     Volume  index  \n",
       "0  61554300    0.0  \n",
       "1  62688800    1.0  \n",
       "2  63070300    2.0  \n",
       "3  56538800    3.0  \n",
       "4  98622200    4.0  "
      ]
     },
     "execution_count": 5,
     "metadata": {},
     "output_type": "execute_result"
    }
   ],
   "source": [
    "for i in df.index:\n",
    "    df.loc[i, 'index'] = i\n",
    "\n",
    "df.head()"
   ]
  },
  {
   "cell_type": "code",
   "execution_count": 6,
   "metadata": {},
   "outputs": [
    {
     "data": {
      "image/png": "[encoded data removed]",
      "text/plain": [
       "<Figure size 640x480 with 1 Axes>"
      ]
     },
     "metadata": {},
     "output_type": "display_data"
    }
   ],
   "source": [
    "index = pd.DataFrame(df['index'])\n",
    "close = pd.DataFrame(df['Adj Close'])\n",
    "\n",
    "indexTrain, indexTest, closeTrain, closeTest = train_test_split(index, close, test_size=0.33, random_state=19)\n",
    "\n",
    "linearRegressor = LinearRegression()\n",
    "linearRegressor.fit(indexTrain.values, closeTrain.values)\n",
    "closePred = linearRegressor.predict(indexTrain.values)\n",
    "\n",
    "plt.scatter(indexTrain, closeTrain)\n",
    "plt.plot(indexTrain, closePred, color = 'red')\n",
    "plt.show()"
   ]
  },
  {
   "cell_type": "code",
   "execution_count": 7,
   "metadata": {},
   "outputs": [
    {
     "name": "stdout",
     "output_type": "stream",
     "text": [
      "MSE = 995.2336442020219\n"
     ]
    }
   ],
   "source": [
    "print(\"MSE = \" +str(metrics.mean_squared_error(closeTrain, closePred)))"
   ]
  },
  {
   "cell_type": "code",
   "execution_count": 8,
   "metadata": {},
   "outputs": [
    {
     "name": "stdout",
     "output_type": "stream",
     "text": [
      "Estimated stock price on  12.11.2023 :  [[317.81897983]]\n"
     ]
    }
   ],
   "source": [
    "indato = input(\"Ønsket dato (format: dd.mm.åååå): \")\n",
    "dateFormat = '%d.%m.%Y'\n",
    "indatetime = datetime.strptime(indato, dateFormat)\n",
    "\n",
    "startdate = \"30.10.2022\"\n",
    "startdate = datetime.strptime(startdate, dateFormat)\n",
    "\n",
    "predicto = indatetime - startdate\n",
    "#print(predicto.days)\n",
    "\n",
    "stock = linearRegressor.predict([[predicto.days]])\n",
    "print(\"Estimated stock price on \", indato, \": \", stock)"
   ]
  },
  {
   "cell_type": "markdown",
   "metadata": {},
   "source": []
  }
 ],
 "metadata": {
  "kernelspec": {
   "display_name": "dave3625",
   "language": "python",
   "name": "python3"
  },
  "language_info": {
   "codemirror_mode": {
    "name": "ipython",
    "version": 3
   },
   "file_extension": ".py",
   "mimetype": "text/x-python",
   "name": "python",
   "nbconvert_exporter": "python",
   "pygments_lexer": "ipython3",
   "version": "3.8.17"
  }
 },
 "nbformat": 4,
 "nbformat_minor": 2
}
